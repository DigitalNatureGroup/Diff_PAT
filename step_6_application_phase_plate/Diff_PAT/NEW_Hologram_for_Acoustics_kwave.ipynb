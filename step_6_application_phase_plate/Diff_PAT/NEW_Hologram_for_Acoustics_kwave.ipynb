{
  "nbformat": 4,
  "nbformat_minor": 0,
  "metadata": {
    "colab": {
      "name": "NEW_Hologram_for_Acoustics_kwave.ipynb ",
      "provenance": [],
      "collapsed_sections": []
    },
    "kernelspec": {
      "name": "python3",
      "display_name": "Python 3"
    },
    "accelerator": "GPU"
  },
  "cells": [
    {
      "cell_type": "code",
      "metadata": {
        "colab": {
          "base_uri": "https://localhost:8080/"
        },
        "id": "MKjtYWdXDI1y",
        "outputId": "b1ed93b9-83f1-4786-cc67-d9c1f80f0f72"
      },
      "source": [
        "import tensorflow as tf\n",
        "print(tf.__version__)"
      ],
      "execution_count": 29,
      "outputs": [
        {
          "output_type": "stream",
          "text": [
            "2.3.0\n"
          ],
          "name": "stdout"
        }
      ]
    },
    {
      "cell_type": "code",
      "metadata": {
        "id": "daD-Yd4HArx0"
      },
      "source": [
        "import tensorflow as tf\n",
        "from skimage.metrics import structural_similarity as ssim\n",
        "import os\n",
        "import matplotlib.pyplot as plt\n",
        "import statistics\n",
        "import pickle\n",
        "\n",
        "import math\n",
        "import cv2\n",
        "import numpy as np\n",
        "from numpy import cos as cos\n",
        "from numpy import sin as sin\n",
        "from numpy import sqrt as sqrt\n",
        "from numpy import arctan2 as arctan2\n",
        "from matplotlib import pyplot as plt\n",
        "import os\n",
        "import datetime\n",
        "import time\n",
        "import matplotlib \n",
        "\n",
        "# Diff-PAT for Phase Plates\n",
        "# Author: Tatsuki FUSHIMI, Kenta YAMAMOTO\n",
        "# Corresponding Author: Tatsuki FUSHIMI (tfushimi@slis.tsukuba.ac.jp)\n",
        "# Date: 2020/11/28\n",
        "\n",
        "# Initialization function\n",
        "def init_param():\n",
        "    f0 = 2e06 # frequenc\n",
        "    c0 = 1480 # speed of sound in water\n",
        "    l_ambda = c0/f0 # wavelength\n",
        "    N = 256 # image resolution\n",
        "    p = 0.00015 # pixel size\n",
        "\n",
        "    z = 0.02 # distance to the plane\n",
        "    T0 = 3e-03 # thickness of plate (not used in the calculation)\n",
        "\n",
        "    return N, z, p, l_ambda, T0, f0, c0\n",
        "\n",
        "# Normlization function for output\n",
        "def amp_abs(amp_cgh_img):\n",
        "    new_amp_cgh = amp_cgh_img / amp_cgh_img.max() * 255.0\n",
        "    return new_amp_cgh\n",
        "\n",
        "# Normlization function for phase output\n",
        "def phaser_draw(phase_dist):\n",
        "    new_phase_dist = phase_dist.numpy()\n",
        "    while new_phase_dist.min() < 0:\n",
        "      new_phase_dist += math.pi*2\n",
        "    new_phase_dist = (new_phase_dist % (2*math.pi))/(2*math.pi)\n",
        "    new_phase_dist = new_phase_dist * 255\n",
        "    return new_phase_dist\n",
        "\n",
        "# Visualization Function\n",
        "def show_imgs(imgs):\n",
        "    for i in range(len(imgs)):\n",
        "      img = imgs[i]\n",
        "      plt.figure(figsize=(6,6))\n",
        "      plt.imshow(img)\n",
        "      plt.gray()\n",
        "    plt.show()\n",
        "\n",
        "# Transmission Loss calculation, not used in the manuscript\n",
        "def calculate_alpha(phase, f0):\n",
        "    # Hologram\n",
        "    c_h = 2424\n",
        "    rho_h = 1190\n",
        "    Z_h = c_h * rho_h\n",
        "    k_h = (2*math.pi*f0) / c_h\n",
        "    \n",
        "    #transducer surface (assume gel to be impedance matched with hologram)\n",
        "    Z_t = Z_h\n",
        "    # water\n",
        "    rho_m = 1000\n",
        "    c_m = 1480\n",
        "    Z_m = c_m * rho_m\n",
        "    k_m = (2*math.pi*f0) / c_m\n",
        "    #Hologram Thickness\n",
        "    delta_phase = phase % (2*math.pi)\n",
        "    delta_T = delta_phase / (k_m-k_h)\n",
        "    Thickness = T0 - delta_T\n",
        "\n",
        "    alpha_t_top = (4*Z_t*(Z_h**2)*Z_m);\n",
        "    alpha_t_bot_1 = (Z_h**2 * (Z_t + Z_m)**2) * pow(tf.math.cos((k_h * Thickness)), 2);\n",
        "    alpha_t_bot_2 = (Z_h**2 + Z_t*Z_m)**2 * pow(tf.math.sin((k_h * Thickness)), 2);\n",
        "\n",
        "    alpha_t = pow(alpha_t_top / (alpha_t_bot_1 + alpha_t_bot_2), 0.5)\n",
        "    return alpha_t\n",
        "\n",
        "# Calculation of PSNR ratio in dB\n",
        "def calculate_psnr(original, comparison):\n",
        "    M = comparison.shape[0]\n",
        "    differ = np.sum(pow((original.numpy() - comparison), 2)) / (M*M)\n",
        "    PSNR = 20*np.log10(255 / np.sqrt(differ))\n",
        "    return PSNR"
      ],
      "execution_count": 30,
      "outputs": []
    },
    {
      "cell_type": "code",
      "metadata": {
        "id": "QOyfTVrxWcQ0"
      },
      "source": [
        "# Angular Spectrum Method \n",
        "# See k-Wave http://www.k-wave.org/documentation/angularSpectrumCW.php for original code\n",
        "def band_limited_angular_h(k, N, l_ambda, z, p, f0, c0):\n",
        "    N = N * 2\n",
        "    if N%2==0:\n",
        "        k_vec = np.arange(-N/2, N/2)\n",
        "    else:\n",
        "        k_vec = np.arange(-((N-1)/2), ((N-1)/2)+1)\n",
        "    k_vec *= (2*math.pi) / (N*p)\n",
        "    \n",
        "    k_vec[int(N/2)] = 0\n",
        "    \n",
        "    k_vec = np.fft.ifftshift(k_vec)\n",
        "    kx, ky = np.meshgrid(k_vec, k_vec)\n",
        "\n",
        "    k = 2*math.pi*f0 / c0\n",
        "\n",
        "    kz = pow(k**2 -  (pow(kx, 2) + pow(ky, 2))+0j, 0.5)\n",
        "    sqrt_kx2_ky2 = pow(pow(kx,2) + pow(ky, 2), 0.5)\n",
        "\n",
        "    H = np.conj(np.exp(1j * z * kz))\n",
        "    D = (N- 1) * (p)\n",
        "    kc = k * pow(0.5 * D**2 / (0.5 * D**2 + z**2) , 0.5)\n",
        "    \n",
        "    kh = np.where(sqrt_kx2_ky2 > kc, 0, H)\n",
        "    return kh"
      ],
      "execution_count": 31,
      "outputs": []
    },
    {
      "cell_type": "code",
      "metadata": {
        "id": "17L80CtiBSGF"
      },
      "source": [
        "### Get initialization values\n",
        "N, z, p, l_ambda, T0, f0, c0 = init_param()\n",
        "k = 2*np.pi/l_ambda\n",
        "image_number = '5'\n",
        "target_amp = 1\n",
        "\n",
        "##### Target Amplitude #####\n",
        "in_dir = './'\n",
        "amp_img_np = cv2.imread(in_dir + 'test_image_' + image_number + '_amp.png', cv2.IMREAD_UNCHANGED)\n",
        "size = (N, N)\n",
        "amp_img_np = cv2.resize(amp_img_np, size)\n",
        "original = tf.dtypes.cast(amp_img_np, tf.float64)\n",
        "amp_img = tf.constant(amp_img_np/ 255.0 * target_amp)\n",
        "amp_img = tf.dtypes.cast(amp_img, tf.float64)\n",
        "\n",
        "##### Input #####\n",
        "input_int = cv2.imread(in_dir + 'test_transducer.png', cv2.IMREAD_UNCHANGED)\n",
        "size = (N, N)\n",
        "input_int = cv2.resize(input_int, size)\n",
        "input_int = input_int / 255.0\n",
        "input_int = tf.constant(input_int)\n",
        "input_int = tf.dtypes.cast(input_int, tf.float64)\n",
        "\n",
        "\n",
        "##### Randomize phase #####\n",
        "#random_phase = np.random.uniform(0.0, 2.0*np.pi, size)\n",
        "zero_phase = np.zeros(size)\n",
        "phase = tf.Variable(zero_phase)\n",
        "\n",
        "##### Transducer Inputs #####\n",
        "light_img = tf.dtypes.cast(input_int, tf.complex128)\n",
        "\n",
        "# Target Image\n",
        "target = amp_img\n",
        "\n",
        "##### Get Angular Spectrum #####\n",
        "angular_h = band_limited_angular_h(k, N, l_ambda, z, p, f0, c0)\n"
      ],
      "execution_count": 32,
      "outputs": []
    },
    {
      "cell_type": "code",
      "metadata": {
        "id": "4xmxnXd1w7qN"
      },
      "source": [
        "# Calcualtes propagation of the input_image to the z-plane using angular spectrum method.\n",
        "# Code was based on http://www.k-wave.org/documentation/angularSpectrumCW.php\n",
        "\n",
        "def angular_spectrumCW(input_image, select_h):\n",
        "  M = input_image.shape[0]\n",
        "  init_plane_add = tf.pad(input_image, ((M//2,M//2), (M//2,M//2)), 'constant')\n",
        "  N = init_plane_add.shape[0]\n",
        "  fft_length = M #for case of 512 which is the case up here input size 256 x 256\n",
        "  init_shift = tf.signal.fft2d(init_plane_add)\n",
        "  prop = tf.signal.ifft2d(tf.math.multiply(init_shift, select_h))\n",
        "  N = prop.shape[0]\n",
        "  M = N // 2\n",
        "  start_num = M//2\n",
        "  end_num = N - M//2\n",
        "  pressure = prop[start_num:end_num, start_num:end_num]\n",
        "\n",
        "  return pressure"
      ],
      "execution_count": 33,
      "outputs": []
    },
    {
      "cell_type": "code",
      "metadata": {
        "id": "J3IjTKDUVW1k"
      },
      "source": [
        "# Defining loss function \n",
        "def loss_func():\n",
        "  phase_exp = tf.dtypes.complex(tf.math.cos(phase), tf.math.sin(phase))\n",
        "\n",
        "  # Input Plane\n",
        "  init_plane = tf.math.multiply(light_img, phase_exp)\n",
        "  pressure = angular_spectrumCW(init_plane, angular_h)\n",
        "  \n",
        "  # Calculate amplitude of acoustic field\n",
        "  prop_inten = pressure * tf.math.conj(pressure)\n",
        "  prop_intenf = tf.dtypes.cast(prop_inten, tf.float64)\n",
        "  current_phase = tf.math.angle(pressure) % (2*math.pi)\n",
        "  \n",
        "  if (step_count%50)==0:\n",
        "    imgs = [\n",
        "      amp_abs(prop_intenf.numpy()), \n",
        "      phaser_draw(current_phase)\n",
        "    ]\n",
        "    #show_imgs(imgs)\n",
        "  loss = tf.reduce_sum(tf.math.abs(prop_intenf-target))\n",
        "  #loss = tf.reduce_sum(pow((prop_intenf - target),2))\n",
        "  return loss\n"
      ],
      "execution_count": 34,
      "outputs": []
    },
    {
      "cell_type": "code",
      "metadata": {
        "id": "Uh_2x0GRB4ek",
        "colab": {
          "base_uri": "https://localhost:8080/"
        },
        "outputId": "b0e6e519-4e5c-4b9c-80bf-5b024ebdec9e"
      },
      "source": [
        "# Get optimizer\n",
        "opt = tf.keras.optimizers.Adam(learning_rate=0.1)\n",
        "step_count = 0;\n",
        "loss_record = []\n",
        "for i in range(200):\n",
        "  # Optimize Function\n",
        "  step_count = opt.minimize(loss_func, [phase]).numpy()\n",
        "\n",
        "  # Evaluate performance\n",
        "  ls = loss_func()\n",
        "  loss_record.append(ls) \n",
        "  if (i%50) ==0:\n",
        "      imgs = [\n",
        "        phaser_draw(phase)\n",
        "      ]\n",
        "      #show_imgs(imgs)\n",
        "\n",
        "      ls = loss_func()\n",
        "      print(ls)\n",
        "\n",
        "# Exporting Function\n",
        "exporting_phase = phaser_draw(phase)\n",
        "phase_exp = tf.dtypes.complex(tf.math.cos(phase), tf.math.sin(phase))\n",
        "np.savetxt('test_image_' + image_number + '_loss_record_DP.csv', np.array(loss_record), delimiter=',')\n",
        "cv2.imwrite('test_image_' + image_number + '_phase_ex_DP.png', exporting_phase)"
      ],
      "execution_count": 35,
      "outputs": [
        {
          "output_type": "stream",
          "text": [
            "tf.Tensor(33016.17727420454, shape=(), dtype=float64)\n",
            "tf.Tensor(1604.8356602759386, shape=(), dtype=float64)\n",
            "tf.Tensor(906.4279806617731, shape=(), dtype=float64)\n",
            "tf.Tensor(840.3982358371936, shape=(), dtype=float64)\n"
          ],
          "name": "stdout"
        },
        {
          "output_type": "execute_result",
          "data": {
            "text/plain": [
              "True"
            ]
          },
          "metadata": {
            "tags": []
          },
          "execution_count": 35
        }
      ]
    }
  ]
}